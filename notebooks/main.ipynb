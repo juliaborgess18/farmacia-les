{
 "cells": [
  {
   "cell_type": "code",
   "execution_count": null,
   "metadata": {},
   "outputs": [],
   "source": [
    "# !pip install sqlalchemy\n",
    "# !pip install psycopg2"
   ]
  },
  {
   "cell_type": "code",
   "execution_count": null,
   "metadata": {},
   "outputs": [],
   "source": [
    "import sqlalchemy"
   ]
  },
  {
   "cell_type": "code",
   "execution_count": null,
   "metadata": {},
   "outputs": [],
   "source": [
    "from click import DateTime\n",
    "from sqlalchemy import Column, Integer, String, create_engine, MetaData, Table\n",
    "\n",
    "# Replace with actual values\n",
    "username = 'farmacia-les'\n",
    "password = 'farmacia-les'\n",
    "hostname = '127.0.0.1:5432'\n",
    "database_name = 'farmacia-les'\n",
    "\n",
    "# Create the database engine\n",
    "engine = create_engine(f'postgresql+psycopg2://{username}:{password}@{hostname}/{database_name}')\n",
    "\n",
    "# with engine.connect() as conn:\n",
    "#     print(\"Connection successful\")\n",
    "\n",
    "# create a metadata object\n",
    "metadata = MetaData()\n",
    " \n",
    "# create a table object for the demo view\n",
    "demo_view = Table('demo_view', metadata,\n",
    "                  Column('id', Integer, primary_key=True),\n",
    "                  Column('name', String),\n",
    "                  Column('created_at', DateTime)\n",
    "                  )\n",
    " \n",
    "# create the demo view in the database\n",
    "metadata.create_all(engine)\n",
    "\n",
    "\n"
   ]
  },
  {
   "cell_type": "code",
   "execution_count": null,
   "metadata": {},
   "outputs": [],
   "source": [
    "from sqlalchemy import Column, Integer, String, create_engine, MetaData, Table\n",
    "import sqlalchemy as db\n",
    "\n",
    "username = 'farmacia-les'\n",
    "password = 'farmacia-les'\n",
    "hostname = '127.0.0.1:5432'\n",
    "database_name = 'farmacia-les'\n",
    "\n",
    "# Create the database engine\n",
    "engine = create_engine(f'postgresql+psycopg2://{username}:{password}@{hostname}/{database_name}')\n",
    "conn = engine.connect()\n",
    "\n",
    "metadata = db.MetaData()\n",
    "\n",
    "table_forma_pagamento = db.Table('formapagamento', metadata,\n",
    "                  Column('idformapagamento', Integer, primary_key=True),\n",
    "                  Column('nome', String))\n",
    "\n",
    "print(repr(metadata.tables['formapagamento']))\n",
    "\n",
    "\n",
    "query = table_forma_pagamento.select()\n",
    "\n",
    "print(query)\n",
    "\n",
    "exe = conn.execute(query)\n",
    "\n",
    "result = exe.fetchall()\n",
    "\n",
    "print(result)\n",
    "\n",
    "\n"
   ]
  },
  {
   "cell_type": "code",
   "execution_count": null,
   "metadata": {},
   "outputs": [],
   "source": [
    "query = db.insert(table_forma_pagamento).values(idformapagamento=13, nome=\"brownie\")\n",
    "\n",
    "result = conn.execute(query)\n",
    "\n",
    "conn.commit()\n"
   ]
  }
 ],
 "metadata": {
  "kernelspec": {
   "display_name": "Python 3",
   "language": "python",
   "name": "python3"
  },
  "language_info": {
   "codemirror_mode": {
    "name": "ipython",
    "version": 3
   },
   "file_extension": ".py",
   "mimetype": "text/x-python",
   "name": "python",
   "nbconvert_exporter": "python",
   "pygments_lexer": "ipython3",
   "version": "3.10.11"
  }
 },
 "nbformat": 4,
 "nbformat_minor": 2
}
